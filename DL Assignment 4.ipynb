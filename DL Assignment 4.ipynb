{
  "cells": [
    {
      "cell_type": "code",
      "execution_count": 28,
      "id": "c6c144ea",
      "metadata": {
        "id": "c6c144ea"
      },
      "outputs": [],
      "source": [
        "#importing libraries to build and train CNN model\n",
        "import pandas as pd\n",
        "import numpy as np\n",
        "import tensorflow as tf\n",
        "import matplotlib.pyplot as plt\n",
        "import seaborn as sns\n",
        "from sklearn.model_selection import train_test_split"
      ]
    },
    {
      "cell_type": "code",
      "execution_count": 29,
      "id": "27ae0c18",
      "metadata": {
        "id": "27ae0c18"
      },
      "outputs": [],
      "source": [
        "from sklearn.preprocessing import StandardScaler\n",
        "from sklearn.metrics import confusion_matrix, recall_score ,accuracy_score,precision_score\n",
        "RANDOM_SEED=2021\n",
        "TEST_PCT=0.3\n",
        "LABELS=['Normal','Fraud']\n"
      ]
    },
    {
      "cell_type": "code",
      "execution_count": 30,
      "id": "15cea396",
      "metadata": {
        "colab": {
          "base_uri": "https://localhost:8080/",
          "height": 367
        },
        "id": "15cea396",
        "outputId": "6ad5d496-df51-41aa-eadc-f524a3cf69ad"
      },
      "outputs": [
        {
          "name": "stdout",
          "output_type": "stream",
          "text": [
            "['Time', 'V1', 'V2', 'V3', 'V4', 'V5', 'V6', 'V7', 'V8', 'V9', 'V10', 'V11', 'V12', 'V13', 'V14', 'V15', 'V16', 'V17', 'V18', 'V19', 'V20', 'V21', 'V22', 'V23', 'V24', 'V25', 'V26', 'V27', 'V28', 'Amount', 'Class']\n"
          ]
        },
        {
          "data": {
            "text/html": [
              "\n",
              "  <div id=\"df-71619e0d-fe47-4575-a7d3-c7a2018f2e99\" class=\"colab-df-container\">\n",
              "    <div>\n",
              "<style scoped>\n",
              "    .dataframe tbody tr th:only-of-type {\n",
              "        vertical-align: middle;\n",
              "    }\n",
              "\n",
              "    .dataframe tbody tr th {\n",
              "        vertical-align: top;\n",
              "    }\n",
              "\n",
              "    .dataframe thead th {\n",
              "        text-align: right;\n",
              "    }\n",
              "</style>\n",
              "<table border=\"1\" class=\"dataframe\">\n",
              "  <thead>\n",
              "    <tr style=\"text-align: right;\">\n",
              "      <th></th>\n",
              "      <th>Time</th>\n",
              "      <th>V1</th>\n",
              "      <th>V2</th>\n",
              "      <th>V3</th>\n",
              "      <th>V4</th>\n",
              "      <th>V5</th>\n",
              "      <th>V6</th>\n",
              "      <th>V7</th>\n",
              "      <th>V8</th>\n",
              "      <th>V9</th>\n",
              "      <th>...</th>\n",
              "      <th>V21</th>\n",
              "      <th>V22</th>\n",
              "      <th>V23</th>\n",
              "      <th>V24</th>\n",
              "      <th>V25</th>\n",
              "      <th>V26</th>\n",
              "      <th>V27</th>\n",
              "      <th>V28</th>\n",
              "      <th>Amount</th>\n",
              "      <th>Class</th>\n",
              "    </tr>\n",
              "  </thead>\n",
              "  <tbody>\n",
              "    <tr>\n",
              "      <th>count</th>\n",
              "      <td>284807.000000</td>\n",
              "      <td>2.848070e+05</td>\n",
              "      <td>2.848070e+05</td>\n",
              "      <td>2.848070e+05</td>\n",
              "      <td>2.848070e+05</td>\n",
              "      <td>2.848070e+05</td>\n",
              "      <td>2.848070e+05</td>\n",
              "      <td>2.848070e+05</td>\n",
              "      <td>2.848070e+05</td>\n",
              "      <td>2.848070e+05</td>\n",
              "      <td>...</td>\n",
              "      <td>2.848070e+05</td>\n",
              "      <td>2.848070e+05</td>\n",
              "      <td>2.848070e+05</td>\n",
              "      <td>2.848070e+05</td>\n",
              "      <td>2.848070e+05</td>\n",
              "      <td>2.848070e+05</td>\n",
              "      <td>2.848070e+05</td>\n",
              "      <td>2.848070e+05</td>\n",
              "      <td>284807.000000</td>\n",
              "      <td>284807.000000</td>\n",
              "    </tr>\n",
              "    <tr>\n",
              "      <th>mean</th>\n",
              "      <td>94813.859575</td>\n",
              "      <td>1.168375e-15</td>\n",
              "      <td>3.416908e-16</td>\n",
              "      <td>-1.379537e-15</td>\n",
              "      <td>2.074095e-15</td>\n",
              "      <td>9.604066e-16</td>\n",
              "      <td>1.487313e-15</td>\n",
              "      <td>-5.556467e-16</td>\n",
              "      <td>1.213481e-16</td>\n",
              "      <td>-2.406331e-15</td>\n",
              "      <td>...</td>\n",
              "      <td>1.654067e-16</td>\n",
              "      <td>-3.568593e-16</td>\n",
              "      <td>2.578648e-16</td>\n",
              "      <td>4.473266e-15</td>\n",
              "      <td>5.340915e-16</td>\n",
              "      <td>1.683437e-15</td>\n",
              "      <td>-3.660091e-16</td>\n",
              "      <td>-1.227390e-16</td>\n",
              "      <td>88.349619</td>\n",
              "      <td>0.001727</td>\n",
              "    </tr>\n",
              "    <tr>\n",
              "      <th>std</th>\n",
              "      <td>47488.145955</td>\n",
              "      <td>1.958696e+00</td>\n",
              "      <td>1.651309e+00</td>\n",
              "      <td>1.516255e+00</td>\n",
              "      <td>1.415869e+00</td>\n",
              "      <td>1.380247e+00</td>\n",
              "      <td>1.332271e+00</td>\n",
              "      <td>1.237094e+00</td>\n",
              "      <td>1.194353e+00</td>\n",
              "      <td>1.098632e+00</td>\n",
              "      <td>...</td>\n",
              "      <td>7.345240e-01</td>\n",
              "      <td>7.257016e-01</td>\n",
              "      <td>6.244603e-01</td>\n",
              "      <td>6.056471e-01</td>\n",
              "      <td>5.212781e-01</td>\n",
              "      <td>4.822270e-01</td>\n",
              "      <td>4.036325e-01</td>\n",
              "      <td>3.300833e-01</td>\n",
              "      <td>250.120109</td>\n",
              "      <td>0.041527</td>\n",
              "    </tr>\n",
              "    <tr>\n",
              "      <th>min</th>\n",
              "      <td>0.000000</td>\n",
              "      <td>-5.640751e+01</td>\n",
              "      <td>-7.271573e+01</td>\n",
              "      <td>-4.832559e+01</td>\n",
              "      <td>-5.683171e+00</td>\n",
              "      <td>-1.137433e+02</td>\n",
              "      <td>-2.616051e+01</td>\n",
              "      <td>-4.355724e+01</td>\n",
              "      <td>-7.321672e+01</td>\n",
              "      <td>-1.343407e+01</td>\n",
              "      <td>...</td>\n",
              "      <td>-3.483038e+01</td>\n",
              "      <td>-1.093314e+01</td>\n",
              "      <td>-4.480774e+01</td>\n",
              "      <td>-2.836627e+00</td>\n",
              "      <td>-1.029540e+01</td>\n",
              "      <td>-2.604551e+00</td>\n",
              "      <td>-2.256568e+01</td>\n",
              "      <td>-1.543008e+01</td>\n",
              "      <td>0.000000</td>\n",
              "      <td>0.000000</td>\n",
              "    </tr>\n",
              "    <tr>\n",
              "      <th>25%</th>\n",
              "      <td>54201.500000</td>\n",
              "      <td>-9.203734e-01</td>\n",
              "      <td>-5.985499e-01</td>\n",
              "      <td>-8.903648e-01</td>\n",
              "      <td>-8.486401e-01</td>\n",
              "      <td>-6.915971e-01</td>\n",
              "      <td>-7.682956e-01</td>\n",
              "      <td>-5.540759e-01</td>\n",
              "      <td>-2.086297e-01</td>\n",
              "      <td>-6.430976e-01</td>\n",
              "      <td>...</td>\n",
              "      <td>-2.283949e-01</td>\n",
              "      <td>-5.423504e-01</td>\n",
              "      <td>-1.618463e-01</td>\n",
              "      <td>-3.545861e-01</td>\n",
              "      <td>-3.171451e-01</td>\n",
              "      <td>-3.269839e-01</td>\n",
              "      <td>-7.083953e-02</td>\n",
              "      <td>-5.295979e-02</td>\n",
              "      <td>5.600000</td>\n",
              "      <td>0.000000</td>\n",
              "    </tr>\n",
              "    <tr>\n",
              "      <th>50%</th>\n",
              "      <td>84692.000000</td>\n",
              "      <td>1.810880e-02</td>\n",
              "      <td>6.548556e-02</td>\n",
              "      <td>1.798463e-01</td>\n",
              "      <td>-1.984653e-02</td>\n",
              "      <td>-5.433583e-02</td>\n",
              "      <td>-2.741871e-01</td>\n",
              "      <td>4.010308e-02</td>\n",
              "      <td>2.235804e-02</td>\n",
              "      <td>-5.142873e-02</td>\n",
              "      <td>...</td>\n",
              "      <td>-2.945017e-02</td>\n",
              "      <td>6.781943e-03</td>\n",
              "      <td>-1.119293e-02</td>\n",
              "      <td>4.097606e-02</td>\n",
              "      <td>1.659350e-02</td>\n",
              "      <td>-5.213911e-02</td>\n",
              "      <td>1.342146e-03</td>\n",
              "      <td>1.124383e-02</td>\n",
              "      <td>22.000000</td>\n",
              "      <td>0.000000</td>\n",
              "    </tr>\n",
              "    <tr>\n",
              "      <th>75%</th>\n",
              "      <td>139320.500000</td>\n",
              "      <td>1.315642e+00</td>\n",
              "      <td>8.037239e-01</td>\n",
              "      <td>1.027196e+00</td>\n",
              "      <td>7.433413e-01</td>\n",
              "      <td>6.119264e-01</td>\n",
              "      <td>3.985649e-01</td>\n",
              "      <td>5.704361e-01</td>\n",
              "      <td>3.273459e-01</td>\n",
              "      <td>5.971390e-01</td>\n",
              "      <td>...</td>\n",
              "      <td>1.863772e-01</td>\n",
              "      <td>5.285536e-01</td>\n",
              "      <td>1.476421e-01</td>\n",
              "      <td>4.395266e-01</td>\n",
              "      <td>3.507156e-01</td>\n",
              "      <td>2.409522e-01</td>\n",
              "      <td>9.104512e-02</td>\n",
              "      <td>7.827995e-02</td>\n",
              "      <td>77.165000</td>\n",
              "      <td>0.000000</td>\n",
              "    </tr>\n",
              "    <tr>\n",
              "      <th>max</th>\n",
              "      <td>172792.000000</td>\n",
              "      <td>2.454930e+00</td>\n",
              "      <td>2.205773e+01</td>\n",
              "      <td>9.382558e+00</td>\n",
              "      <td>1.687534e+01</td>\n",
              "      <td>3.480167e+01</td>\n",
              "      <td>7.330163e+01</td>\n",
              "      <td>1.205895e+02</td>\n",
              "      <td>2.000721e+01</td>\n",
              "      <td>1.559499e+01</td>\n",
              "      <td>...</td>\n",
              "      <td>2.720284e+01</td>\n",
              "      <td>1.050309e+01</td>\n",
              "      <td>2.252841e+01</td>\n",
              "      <td>4.584549e+00</td>\n",
              "      <td>7.519589e+00</td>\n",
              "      <td>3.517346e+00</td>\n",
              "      <td>3.161220e+01</td>\n",
              "      <td>3.384781e+01</td>\n",
              "      <td>25691.160000</td>\n",
              "      <td>1.000000</td>\n",
              "    </tr>\n",
              "  </tbody>\n",
              "</table>\n",
              "<p>8 rows × 31 columns</p>\n",
              "</div>\n",
              "    <div class=\"colab-df-buttons\">\n",
              "\n",
              "  <div class=\"colab-df-container\">\n",
              "    <button class=\"colab-df-convert\" onclick=\"convertToInteractive('df-71619e0d-fe47-4575-a7d3-c7a2018f2e99')\"\n",
              "            title=\"Convert this dataframe to an interactive table.\"\n",
              "            style=\"display:none;\">\n",
              "\n",
              "  <svg xmlns=\"http://www.w3.org/2000/svg\" height=\"24px\" viewBox=\"0 -960 960 960\">\n",
              "    <path d=\"M120-120v-720h720v720H120Zm60-500h600v-160H180v160Zm220 220h160v-160H400v160Zm0 220h160v-160H400v160ZM180-400h160v-160H180v160Zm440 0h160v-160H620v160ZM180-180h160v-160H180v160Zm440 0h160v-160H620v160Z\"/>\n",
              "  </svg>\n",
              "    </button>\n",
              "\n",
              "  <style>\n",
              "    .colab-df-container {\n",
              "      display:flex;\n",
              "      gap: 12px;\n",
              "    }\n",
              "\n",
              "    .colab-df-convert {\n",
              "      background-color: #E8F0FE;\n",
              "      border: none;\n",
              "      border-radius: 50%;\n",
              "      cursor: pointer;\n",
              "      display: none;\n",
              "      fill: #1967D2;\n",
              "      height: 32px;\n",
              "      padding: 0 0 0 0;\n",
              "      width: 32px;\n",
              "    }\n",
              "\n",
              "    .colab-df-convert:hover {\n",
              "      background-color: #E2EBFA;\n",
              "      box-shadow: 0px 1px 2px rgba(60, 64, 67, 0.3), 0px 1px 3px 1px rgba(60, 64, 67, 0.15);\n",
              "      fill: #174EA6;\n",
              "    }\n",
              "\n",
              "    .colab-df-buttons div {\n",
              "      margin-bottom: 4px;\n",
              "    }\n",
              "\n",
              "    [theme=dark] .colab-df-convert {\n",
              "      background-color: #3B4455;\n",
              "      fill: #D2E3FC;\n",
              "    }\n",
              "\n",
              "    [theme=dark] .colab-df-convert:hover {\n",
              "      background-color: #434B5C;\n",
              "      box-shadow: 0px 1px 3px 1px rgba(0, 0, 0, 0.15);\n",
              "      filter: drop-shadow(0px 1px 2px rgba(0, 0, 0, 0.3));\n",
              "      fill: #FFFFFF;\n",
              "    }\n",
              "  </style>\n",
              "\n",
              "    <script>\n",
              "      const buttonEl =\n",
              "        document.querySelector('#df-71619e0d-fe47-4575-a7d3-c7a2018f2e99 button.colab-df-convert');\n",
              "      buttonEl.style.display =\n",
              "        google.colab.kernel.accessAllowed ? 'block' : 'none';\n",
              "\n",
              "      async function convertToInteractive(key) {\n",
              "        const element = document.querySelector('#df-71619e0d-fe47-4575-a7d3-c7a2018f2e99');\n",
              "        const dataTable =\n",
              "          await google.colab.kernel.invokeFunction('convertToInteractive',\n",
              "                                                    [key], {});\n",
              "        if (!dataTable) return;\n",
              "\n",
              "        const docLinkHtml = 'Like what you see? Visit the ' +\n",
              "          '<a target=\"_blank\" href=https://colab.research.google.com/notebooks/data_table.ipynb>data table notebook</a>'\n",
              "          + ' to learn more about interactive tables.';\n",
              "        element.innerHTML = '';\n",
              "        dataTable['output_type'] = 'display_data';\n",
              "        await google.colab.output.renderOutput(dataTable, element);\n",
              "        const docLink = document.createElement('div');\n",
              "        docLink.innerHTML = docLinkHtml;\n",
              "        element.appendChild(docLink);\n",
              "      }\n",
              "    </script>\n",
              "  </div>\n",
              "\n",
              "\n",
              "<div id=\"df-3c8c4894-51dd-464b-9db5-8d45a7eecc30\">\n",
              "  <button class=\"colab-df-quickchart\" onclick=\"quickchart('df-3c8c4894-51dd-464b-9db5-8d45a7eecc30')\"\n",
              "            title=\"Suggest charts.\"\n",
              "            style=\"display:none;\">\n",
              "\n",
              "<svg xmlns=\"http://www.w3.org/2000/svg\" height=\"24px\"viewBox=\"0 0 24 24\"\n",
              "     width=\"24px\">\n",
              "    <g>\n",
              "        <path d=\"M19 3H5c-1.1 0-2 .9-2 2v14c0 1.1.9 2 2 2h14c1.1 0 2-.9 2-2V5c0-1.1-.9-2-2-2zM9 17H7v-7h2v7zm4 0h-2V7h2v10zm4 0h-2v-4h2v4z\"/>\n",
              "    </g>\n",
              "</svg>\n",
              "  </button>\n",
              "\n",
              "<style>\n",
              "  .colab-df-quickchart {\n",
              "      --bg-color: #E8F0FE;\n",
              "      --fill-color: #1967D2;\n",
              "      --hover-bg-color: #E2EBFA;\n",
              "      --hover-fill-color: #174EA6;\n",
              "      --disabled-fill-color: #AAA;\n",
              "      --disabled-bg-color: #DDD;\n",
              "  }\n",
              "\n",
              "  [theme=dark] .colab-df-quickchart {\n",
              "      --bg-color: #3B4455;\n",
              "      --fill-color: #D2E3FC;\n",
              "      --hover-bg-color: #434B5C;\n",
              "      --hover-fill-color: #FFFFFF;\n",
              "      --disabled-bg-color: #3B4455;\n",
              "      --disabled-fill-color: #666;\n",
              "  }\n",
              "\n",
              "  .colab-df-quickchart {\n",
              "    background-color: var(--bg-color);\n",
              "    border: none;\n",
              "    border-radius: 50%;\n",
              "    cursor: pointer;\n",
              "    display: none;\n",
              "    fill: var(--fill-color);\n",
              "    height: 32px;\n",
              "    padding: 0;\n",
              "    width: 32px;\n",
              "  }\n",
              "\n",
              "  .colab-df-quickchart:hover {\n",
              "    background-color: var(--hover-bg-color);\n",
              "    box-shadow: 0 1px 2px rgba(60, 64, 67, 0.3), 0 1px 3px 1px rgba(60, 64, 67, 0.15);\n",
              "    fill: var(--button-hover-fill-color);\n",
              "  }\n",
              "\n",
              "  .colab-df-quickchart-complete:disabled,\n",
              "  .colab-df-quickchart-complete:disabled:hover {\n",
              "    background-color: var(--disabled-bg-color);\n",
              "    fill: var(--disabled-fill-color);\n",
              "    box-shadow: none;\n",
              "  }\n",
              "\n",
              "  .colab-df-spinner {\n",
              "    border: 2px solid var(--fill-color);\n",
              "    border-color: transparent;\n",
              "    border-bottom-color: var(--fill-color);\n",
              "    animation:\n",
              "      spin 1s steps(1) infinite;\n",
              "  }\n",
              "\n",
              "  @keyframes spin {\n",
              "    0% {\n",
              "      border-color: transparent;\n",
              "      border-bottom-color: var(--fill-color);\n",
              "      border-left-color: var(--fill-color);\n",
              "    }\n",
              "    20% {\n",
              "      border-color: transparent;\n",
              "      border-left-color: var(--fill-color);\n",
              "      border-top-color: var(--fill-color);\n",
              "    }\n",
              "    30% {\n",
              "      border-color: transparent;\n",
              "      border-left-color: var(--fill-color);\n",
              "      border-top-color: var(--fill-color);\n",
              "      border-right-color: var(--fill-color);\n",
              "    }\n",
              "    40% {\n",
              "      border-color: transparent;\n",
              "      border-right-color: var(--fill-color);\n",
              "      border-top-color: var(--fill-color);\n",
              "    }\n",
              "    60% {\n",
              "      border-color: transparent;\n",
              "      border-right-color: var(--fill-color);\n",
              "    }\n",
              "    80% {\n",
              "      border-color: transparent;\n",
              "      border-right-color: var(--fill-color);\n",
              "      border-bottom-color: var(--fill-color);\n",
              "    }\n",
              "    90% {\n",
              "      border-color: transparent;\n",
              "      border-bottom-color: var(--fill-color);\n",
              "    }\n",
              "  }\n",
              "</style>\n",
              "\n",
              "  <script>\n",
              "    async function quickchart(key) {\n",
              "      const quickchartButtonEl =\n",
              "        document.querySelector('#' + key + ' button');\n",
              "      quickchartButtonEl.disabled = true;  // To prevent multiple clicks.\n",
              "      quickchartButtonEl.classList.add('colab-df-spinner');\n",
              "      try {\n",
              "        const charts = await google.colab.kernel.invokeFunction(\n",
              "            'suggestCharts', [key], {});\n",
              "      } catch (error) {\n",
              "        console.error('Error during call to suggestCharts:', error);\n",
              "      }\n",
              "      quickchartButtonEl.classList.remove('colab-df-spinner');\n",
              "      quickchartButtonEl.classList.add('colab-df-quickchart-complete');\n",
              "    }\n",
              "    (() => {\n",
              "      let quickchartButtonEl =\n",
              "        document.querySelector('#df-3c8c4894-51dd-464b-9db5-8d45a7eecc30 button');\n",
              "      quickchartButtonEl.style.display =\n",
              "        google.colab.kernel.accessAllowed ? 'block' : 'none';\n",
              "    })();\n",
              "  </script>\n",
              "</div>\n",
              "    </div>\n",
              "  </div>\n"
            ],
            "text/plain": [
              "                Time            V1            V2            V3            V4  \\\n",
              "count  284807.000000  2.848070e+05  2.848070e+05  2.848070e+05  2.848070e+05   \n",
              "mean    94813.859575  1.168375e-15  3.416908e-16 -1.379537e-15  2.074095e-15   \n",
              "std     47488.145955  1.958696e+00  1.651309e+00  1.516255e+00  1.415869e+00   \n",
              "min         0.000000 -5.640751e+01 -7.271573e+01 -4.832559e+01 -5.683171e+00   \n",
              "25%     54201.500000 -9.203734e-01 -5.985499e-01 -8.903648e-01 -8.486401e-01   \n",
              "50%     84692.000000  1.810880e-02  6.548556e-02  1.798463e-01 -1.984653e-02   \n",
              "75%    139320.500000  1.315642e+00  8.037239e-01  1.027196e+00  7.433413e-01   \n",
              "max    172792.000000  2.454930e+00  2.205773e+01  9.382558e+00  1.687534e+01   \n",
              "\n",
              "                 V5            V6            V7            V8            V9  \\\n",
              "count  2.848070e+05  2.848070e+05  2.848070e+05  2.848070e+05  2.848070e+05   \n",
              "mean   9.604066e-16  1.487313e-15 -5.556467e-16  1.213481e-16 -2.406331e-15   \n",
              "std    1.380247e+00  1.332271e+00  1.237094e+00  1.194353e+00  1.098632e+00   \n",
              "min   -1.137433e+02 -2.616051e+01 -4.355724e+01 -7.321672e+01 -1.343407e+01   \n",
              "25%   -6.915971e-01 -7.682956e-01 -5.540759e-01 -2.086297e-01 -6.430976e-01   \n",
              "50%   -5.433583e-02 -2.741871e-01  4.010308e-02  2.235804e-02 -5.142873e-02   \n",
              "75%    6.119264e-01  3.985649e-01  5.704361e-01  3.273459e-01  5.971390e-01   \n",
              "max    3.480167e+01  7.330163e+01  1.205895e+02  2.000721e+01  1.559499e+01   \n",
              "\n",
              "       ...           V21           V22           V23           V24  \\\n",
              "count  ...  2.848070e+05  2.848070e+05  2.848070e+05  2.848070e+05   \n",
              "mean   ...  1.654067e-16 -3.568593e-16  2.578648e-16  4.473266e-15   \n",
              "std    ...  7.345240e-01  7.257016e-01  6.244603e-01  6.056471e-01   \n",
              "min    ... -3.483038e+01 -1.093314e+01 -4.480774e+01 -2.836627e+00   \n",
              "25%    ... -2.283949e-01 -5.423504e-01 -1.618463e-01 -3.545861e-01   \n",
              "50%    ... -2.945017e-02  6.781943e-03 -1.119293e-02  4.097606e-02   \n",
              "75%    ...  1.863772e-01  5.285536e-01  1.476421e-01  4.395266e-01   \n",
              "max    ...  2.720284e+01  1.050309e+01  2.252841e+01  4.584549e+00   \n",
              "\n",
              "                V25           V26           V27           V28         Amount  \\\n",
              "count  2.848070e+05  2.848070e+05  2.848070e+05  2.848070e+05  284807.000000   \n",
              "mean   5.340915e-16  1.683437e-15 -3.660091e-16 -1.227390e-16      88.349619   \n",
              "std    5.212781e-01  4.822270e-01  4.036325e-01  3.300833e-01     250.120109   \n",
              "min   -1.029540e+01 -2.604551e+00 -2.256568e+01 -1.543008e+01       0.000000   \n",
              "25%   -3.171451e-01 -3.269839e-01 -7.083953e-02 -5.295979e-02       5.600000   \n",
              "50%    1.659350e-02 -5.213911e-02  1.342146e-03  1.124383e-02      22.000000   \n",
              "75%    3.507156e-01  2.409522e-01  9.104512e-02  7.827995e-02      77.165000   \n",
              "max    7.519589e+00  3.517346e+00  3.161220e+01  3.384781e+01   25691.160000   \n",
              "\n",
              "               Class  \n",
              "count  284807.000000  \n",
              "mean        0.001727  \n",
              "std         0.041527  \n",
              "min         0.000000  \n",
              "25%         0.000000  \n",
              "50%         0.000000  \n",
              "75%         0.000000  \n",
              "max         1.000000  \n",
              "\n",
              "[8 rows x 31 columns]"
            ]
          },
          "execution_count": 30,
          "metadata": {},
          "output_type": "execute_result"
        }
      ],
      "source": [
        "dataset = pd.read_csv(r\"creditcard.csv\")\n",
        "print(list(dataset.columns))\n",
        "dataset.describe()\n"
      ]
    },
    {
      "cell_type": "code",
      "execution_count": 31,
      "id": "ab2b6278",
      "metadata": {
        "colab": {
          "base_uri": "https://localhost:8080/"
        },
        "id": "ab2b6278",
        "outputId": "2cb0526a-32bf-4415-b82a-0282c7617396"
      },
      "outputs": [
        {
          "name": "stdout",
          "output_type": "stream",
          "text": [
            "Any nulls in the dataset  False\n",
            "------\n",
            "No of unique labels 2\n",
            "-------\n",
            "break down of the normal and fraud transaction\n",
            "0    284315\n",
            "1       492\n",
            "Name: Class, dtype: int64\n"
          ]
        }
      ],
      "source": [
        "#check for null values\n",
        "print(\"Any nulls in the dataset \",dataset.isnull().values.any())\n",
        "print('------')\n",
        "print('No of unique labels', len(dataset['Class'].unique()))\n",
        "#0 is for normal credit card transaction\n",
        "#1 is for fraudulent credit card transaction\n",
        "print('-------')\n",
        "print('break down of the normal and fraud transaction')\n",
        "print(pd.value_counts(dataset['Class'],sort = True))\n"
      ]
    },
    {
      "cell_type": "code",
      "execution_count": 32,
      "id": "e99d3286",
      "metadata": {
        "colab": {
          "base_uri": "https://localhost:8080/",
          "height": 472
        },
        "id": "e99d3286",
        "outputId": "8e6ca88e-42d8-4274-faf5-9b24655a8593"
      },
      "outputs": [
        {
          "data": {
            "image/png": "[encoded data removed]",
            "text/plain": [
              "<Figure size 640x480 with 1 Axes>"
            ]
          },
          "metadata": {},
          "output_type": "display_data"
        }
      ],
      "source": [
        "#visualizing the imbalanced dataset\n",
        "count_classes= pd.value_counts(dataset['Class'],sort=True)\n",
        "count_classes.plot(kind='bar',rot=0)\n",
        "plt.xticks(range(len(dataset['Class'].unique())),dataset.Class.unique())\n",
        "plt.title('Frequency by observation number')\n",
        "plt.xlabel('Class')\n",
        "plt.ylabel('Number of observations');"
      ]
    },
    {
      "cell_type": "code",
      "execution_count": 33,
      "id": "ac1ff917",
      "metadata": {
        "colab": {
          "base_uri": "https://localhost:8080/",
          "height": 472
        },
        "id": "ac1ff917",
        "outputId": "5c1c2de4-126e-4905-c0ff-ceccae627967"
      },
      "outputs": [
        {
          "data": {
            "image/png": "[encoded data removed]",
            "text/plain": [
              "<Figure size 640x480 with 1 Axes>"
            ]
          },
          "metadata": {},
          "output_type": "display_data"
        }
      ],
      "source": [
        "#Save the normal and fraudulent transaction in separate dataframe\n",
        "normal_dataset = dataset[dataset.Class == 0]\n",
        "fraud_dataset = dataset[dataset.Class == 1]\n",
        "#visualize transaction amounts for normal and fraudlant transactions\n",
        "bins = np.linspace(200,2500,100)\n",
        "plt.hist(normal_dataset.Amount,bins=bins,alpha=1,density=True,label='Normal')\n",
        "plt.hist(fraud_dataset.Amount,bins=bins,alpha=0.5,density=True,label='Fraud')\n",
        "plt.legend(loc='upper right')\n",
        "plt.title('Transaction amount vs percentage of transactions')\n",
        "plt.xlabel('Transaction amount(USD)')\n",
        "plt.ylabel('Percentage of transactions')\n",
        "plt.show()\n"
      ]
    },
    {
      "cell_type": "code",
      "execution_count": 34,
      "id": "b09b2f55",
      "metadata": {
        "colab": {
          "base_uri": "https://localhost:8080/",
          "height": 53
        },
        "id": "b09b2f55",
        "outputId": "5e8f0200-ea72-452e-de1a-7a53dc938ca7"
      },
      "outputs": [
        {
          "data": {
            "application/vnd.google.colaboratory.intrinsic+json": {
              "type": "string"
            },
            "text/plain": [
              "'Time and Amount are the columns that aer not scaled , so applying StandardScaler to only Amount and time columns. \\n Normalizing the values between 0 and 1 did not work great for the dataset.'"
            ]
          },
          "execution_count": 34,
          "metadata": {},
          "output_type": "execute_result"
        }
      ],
      "source": [
        "'''Time and Amount are the columns that aer not scaled , so applying StandardScaler to only Amount and time columns. \\n Normalizing the values between 0 and 1 did not work great for the dataset.'''"
      ]
    },
    {
      "cell_type": "code",
      "execution_count": 35,
      "id": "20632581",
      "metadata": {
        "id": "20632581"
      },
      "outputs": [],
      "source": [
        "#Here, the 'Time' and 'Amount' columns are scaled using StandardScaler to prepare the data for model training.\n",
        "sc=StandardScaler()\n",
        "dataset['Time']=sc.fit_transform(dataset['Time'].values.reshape(-1,1))\n",
        "dataset['Amount']=sc.fit_transform(dataset['Amount'].values.reshape(-1,1))\n",
        "\n"
      ]
    },
    {
      "cell_type": "code",
      "execution_count": 36,
      "id": "fdb325ef",
      "metadata": {
        "id": "fdb325ef"
      },
      "outputs": [],
      "source": [
        "'''The last column in the dataset is our target variable.'''\n",
        "raw_data = dataset.values\n",
        "#the last element contains if the transaction is normal which is represented\n",
        "labels = raw_data[:,-1]\n",
        "#the other data points are the electrocardriogram data\n",
        "data= raw_data[:,0:-1]\n",
        "train_data,test_data,train_labels,test_labels=train_test_split(\n",
        "    data,labels,test_size=0.2,random_state=2021\n",
        ")"
      ]
    },
    {
      "cell_type": "code",
      "execution_count": 37,
      "id": "9eb07d59",
      "metadata": {
        "id": "9eb07d59"
      },
      "outputs": [],
      "source": [
        "'''Normalize the data to gave a value between 0 and 1'''\n",
        "#calculate min and max\n",
        "min_val=tf.reduce_min(train_data)\n",
        "max_val=tf.reduce_max(train_data)\n",
        "#performing min max normalization\n",
        "train_data=(train_data - min_val)/(max_val - min_val)\n",
        "test_data=(test_data - min_val)/(max_val - min_val)\n",
        "#convert the data into float\n",
        "train_data=tf.cast(train_data,tf.float32)\n",
        "test_data=tf.cast(test_data,tf.float32)\n"
      ]
    },
    {
      "cell_type": "code",
      "execution_count": 38,
      "id": "6b496e8e",
      "metadata": {
        "colab": {
          "base_uri": "https://localhost:8080/"
        },
        "id": "6b496e8e",
        "outputId": "79355657-0aa5-476e-99ca-19c9a69bda53"
      },
      "outputs": [
        {
          "name": "stdout",
          "output_type": "stream",
          "text": [
            "No. of records in fraud train data= 389\n",
            "No. of records in Normal train data= 227456\n",
            "No. of records in fraud test data= 103\n",
            "No. of records in Normal test data= 56859\n"
          ]
        }
      ],
      "source": [
        "'''Use only normal transactions to train the Autoencoder.\n",
        "Normal data has a value of 0 in the target variable. Using the target variable'''\n",
        "#array to bool\n",
        "train_labels = train_labels.astype(bool)\n",
        "test_labels = test_labels.astype(bool)\n",
        "#creating normal and fraud datasets\n",
        "normal_train_data = train_data[~train_labels]\n",
        "normal_test_data = test_data[~test_labels]\n",
        "fraud_train_data = train_data[train_labels]\n",
        "fraud_test_data = test_data[test_labels]\n",
        "print('No. of records in fraud train data=',len(fraud_train_data))\n",
        "print('No. of records in Normal train data=',len(normal_train_data))\n",
        "print('No. of records in fraud test data=',len(fraud_test_data))\n",
        "print('No. of records in Normal test data=',len(normal_test_data))"
      ]
    },
    {
      "cell_type": "code",
      "execution_count": 39,
      "id": "2f1e6359",
      "metadata": {
        "id": "2f1e6359"
      },
      "outputs": [],
      "source": [
        "nb_epoch = 50\n",
        "#batch size : no of samples that will be used in each iteration\n",
        "batch_size= 64\n",
        "input_dim = normal_train_data.shape[1] #num of columns ,30\n",
        "#no of neurons\n",
        "encoding_dim=14\n",
        "hidden_dim_1=int(encoding_dim/2)\n",
        "hidden_dim_2=4\n",
        "# step size at each iteration\n",
        "learning_rate= 1e-7\n"
      ]
    },
    {
      "cell_type": "code",
      "execution_count": 40,
      "id": "fcca234c",
      "metadata": {
        "colab": {
          "base_uri": "https://localhost:8080/"
        },
        "id": "fcca234c",
        "outputId": "f900f58f-3782-40a8-9a4f-85c58ae9a960"
      },
      "outputs": [
        {
          "name": "stdout",
          "output_type": "stream",
          "text": [
            "Model: \"model_1\"\n",
            "_________________________________________________________________\n",
            " Layer (type)                Output Shape              Param #   \n",
            "=================================================================\n",
            " input_2 (InputLayer)        [(None, 30)]              0         \n",
            "                                                                 \n",
            " dense_6 (Dense)             (None, 14)                434       \n",
            "                                                                 \n",
            " dropout_2 (Dropout)         (None, 14)                0         \n",
            "                                                                 \n",
            " dense_7 (Dense)             (None, 7)                 105       \n",
            "                                                                 \n",
            " dense_8 (Dense)             (None, 4)                 32        \n",
            "                                                                 \n",
            " dense_9 (Dense)             (None, 7)                 35        \n",
            "                                                                 \n",
            " dropout_3 (Dropout)         (None, 7)                 0         \n",
            "                                                                 \n",
            " dense_10 (Dense)            (None, 14)                112       \n",
            "                                                                 \n",
            " dense_11 (Dense)            (None, 30)                450       \n",
            "                                                                 \n",
            "=================================================================\n",
            "Total params: 1168 (4.56 KB)\n",
            "Trainable params: 1168 (4.56 KB)\n",
            "Non-trainable params: 0 (0.00 Byte)\n",
            "_________________________________________________________________\n"
          ]
        }
      ],
      "source": [
        "#input Layer\n",
        "input_layer = tf.keras.layers.Input(shape=(input_dim, ))\n",
        "\n",
        "#Encoder\n",
        "encoder = tf.keras.layers.Dense(encoding_dim, activation=\"tanh\",\n",
        "                        activity_regularizer=tf.keras.regularizers.l2(learning_rate))(input_layer)\n",
        "#regularization technique that randomly sets 20% of the input units to 0 at each update during training, which helps prevent overfitting.\n",
        "encoder=tf.keras.layers.Dropout(0.2)(encoder)\n",
        "encoder = tf.keras.layers.Dense(hidden_dim_1, activation='relu')(encoder)\n",
        "encoder = tf.keras.layers.Dense(hidden_dim_2, activation=tf.nn.leaky_relu)(encoder)\n",
        "\n",
        "# Decoder\n",
        "decoder = tf.keras.layers.Dense(hidden_dim_1, activation='relu')(encoder)\n",
        "decoder=tf.keras.layers.Dropout(0.2)(decoder)\n",
        "decoder = tf.keras.layers.Dense(encoding_dim, activation='relu')(decoder)\n",
        "decoder = tf.keras.layers.Dense(input_dim, activation='tanh')(decoder)\n",
        "\n",
        "#Autoencoder\n",
        "autoencoder = tf.keras.Model(inputs=input_layer, outputs=decoder)\n",
        "autoencoder.summary()"
      ]
    },
    {
      "cell_type": "code",
      "execution_count": 41,
      "id": "742d9032",
      "metadata": {
        "id": "742d9032"
      },
      "outputs": [],
      "source": [
        "\"\"\"Define the callbacks for checkpoints and early stopping\"\"\"\n",
        "\n",
        "cp = tf.keras.callbacks.ModelCheckpoint(filepath=\"autoencoder_fraud.h5\",\n",
        "                               mode='min', monitor='val_loss', verbose=2, save_best_only=True)\n",
        "# define our early stopping\n",
        "#The EarlyStopping callback is used to stop the training process when a monitored quantity (in this case, validation loss) has stopped improving\n",
        "early_stop = tf.keras.callbacks.EarlyStopping(\n",
        "    monitor='val_loss',\n",
        "    min_delta=0.0001,\n",
        "    patience=10,\n",
        "    verbose=1,\n",
        "    mode='min',\n",
        "    restore_best_weights=True)"
      ]
    },
    {
      "cell_type": "code",
      "execution_count": 42,
      "id": "cafbc95f",
      "metadata": {
        "id": "cafbc95f"
      },
      "outputs": [],
      "source": [
        "#Compile the Autoencoder\n",
        "\n",
        "autoencoder.compile(metrics=['accuracy'],\n",
        "                    loss='mean_squared_error',\n",
        "                    optimizer='adam')"
      ]
    },
    {
      "cell_type": "code",
      "execution_count": 43,
      "id": "3e2ce221",
      "metadata": {
        "colab": {
          "base_uri": "https://localhost:8080/"
        },
        "id": "3e2ce221",
        "outputId": "cdaebaf5-e753-4f4c-fcd6-9a3ac05a79a2"
      },
      "outputs": [
        {
          "name": "stdout",
          "output_type": "stream",
          "text": [
            "Epoch 1/50\n",
            "3543/3554 [============================>.] - ETA: 0s - loss: 0.0049 - accuracy: 0.0176\n",
            "Epoch 1: val_loss improved from inf to 0.00002, saving model to autoencoder_fraud.h5\n",
            "3554/3554 [==============================] - 13s 3ms/step - loss: 0.0049 - accuracy: 0.0176 - val_loss: 2.0387e-05 - val_accuracy: 0.0269\n",
            "Epoch 2/50\n",
            "  54/3554 [..............................] - ETA: 10s - loss: 1.8494e-05 - accuracy: 0.0211"
          ]
        },
        {
          "name": "stderr",
          "output_type": "stream",
          "text": [
            "/usr/local/lib/python3.10/dist-packages/keras/src/engine/training.py:3079: UserWarning: You are saving your model as an HDF5 file via `model.save()`. This file format is considered legacy. We recommend using instead the native Keras format, e.g. `model.save('my_model.keras')`.\n",
            "  saving_api.save_model(\n"
          ]
        },
        {
          "name": "stdout",
          "output_type": "stream",
          "text": [
            "3535/3554 [============================>.] - ETA: 0s - loss: 1.9379e-05 - accuracy: 0.0528\n",
            "Epoch 2: val_loss improved from 0.00002 to 0.00002, saving model to autoencoder_fraud.h5\n",
            "3554/3554 [==============================] - 13s 4ms/step - loss: 1.9379e-05 - accuracy: 0.0530 - val_loss: 1.9982e-05 - val_accuracy: 0.0596\n",
            "Epoch 3/50\n",
            "3543/3554 [============================>.] - ETA: 0s - loss: 1.9364e-05 - accuracy: 0.0640\n",
            "Epoch 3: val_loss did not improve from 0.00002\n",
            "3554/3554 [==============================] - 11s 3ms/step - loss: 1.9369e-05 - accuracy: 0.0639 - val_loss: 2.0266e-05 - val_accuracy: 0.0251\n",
            "Epoch 4/50\n",
            "3546/3554 [============================>.] - ETA: 0s - loss: 1.9475e-05 - accuracy: 0.0610\n",
            "Epoch 4: val_loss did not improve from 0.00002\n",
            "3554/3554 [==============================] - 11s 3ms/step - loss: 1.9478e-05 - accuracy: 0.0610 - val_loss: 2.0053e-05 - val_accuracy: 0.0363\n",
            "Epoch 5/50\n",
            "3543/3554 [============================>.] - ETA: 0s - loss: 1.9479e-05 - accuracy: 0.0604\n",
            "Epoch 5: val_loss did not improve from 0.00002\n",
            "3554/3554 [==============================] - 11s 3ms/step - loss: 1.9477e-05 - accuracy: 0.0604 - val_loss: 2.0121e-05 - val_accuracy: 0.0269\n",
            "Epoch 6/50\n",
            "3547/3554 [============================>.] - ETA: 0s - loss: 1.9484e-05 - accuracy: 0.0598\n",
            "Epoch 6: val_loss did not improve from 0.00002\n",
            "3554/3554 [==============================] - 11s 3ms/step - loss: 1.9486e-05 - accuracy: 0.0598 - val_loss: 2.0153e-05 - val_accuracy: 0.0251\n",
            "Epoch 7/50\n",
            "3550/3554 [============================>.] - ETA: 0s - loss: 1.9488e-05 - accuracy: 0.0606\n",
            "Epoch 7: val_loss did not improve from 0.00002\n",
            "3554/3554 [==============================] - 24s 7ms/step - loss: 1.9484e-05 - accuracy: 0.0606 - val_loss: 2.0082e-05 - val_accuracy: 0.0596\n",
            "Epoch 8/50\n",
            "3547/3554 [============================>.] - ETA: 0s - loss: 1.9460e-05 - accuracy: 0.0590\n",
            "Epoch 8: val_loss did not improve from 0.00002\n",
            "3554/3554 [==============================] - 13s 4ms/step - loss: 1.9462e-05 - accuracy: 0.0589 - val_loss: 2.0154e-05 - val_accuracy: 0.0236\n",
            "Epoch 9/50\n",
            "3550/3554 [============================>.] - ETA: 0s - loss: 1.9484e-05 - accuracy: 0.0600\n",
            "Epoch 9: val_loss improved from 0.00002 to 0.00002, saving model to autoencoder_fraud.h5\n",
            "3554/3554 [==============================] - 12s 3ms/step - loss: 1.9484e-05 - accuracy: 0.0602 - val_loss: 1.9963e-05 - val_accuracy: 0.2168\n",
            "Epoch 10/50\n",
            "3541/3554 [============================>.] - ETA: 0s - loss: 1.9549e-05 - accuracy: 0.0600\n",
            "Epoch 10: val_loss did not improve from 0.00002\n",
            "3554/3554 [==============================] - 14s 4ms/step - loss: 1.9553e-05 - accuracy: 0.0600 - val_loss: 2.0308e-05 - val_accuracy: 0.2168\n",
            "Epoch 11/50\n",
            "3551/3554 [============================>.] - ETA: 0s - loss: 1.9458e-05 - accuracy: 0.0632\n",
            "Epoch 11: val_loss did not improve from 0.00002\n",
            "Restoring model weights from the end of the best epoch: 1.\n",
            "3554/3554 [==============================] - 11s 3ms/step - loss: 1.9454e-05 - accuracy: 0.0632 - val_loss: 2.0110e-05 - val_accuracy: 0.0814\n",
            "Epoch 11: early stopping\n"
          ]
        }
      ],
      "source": [
        "#Train the Autoencoder\n",
        "\n",
        "history = autoencoder.fit(normal_train_data, normal_train_data,\n",
        "                    epochs=nb_epoch,\n",
        "                    batch_size=batch_size,\n",
        "                    shuffle=True,\n",
        "                    validation_data=(test_data, test_data),\n",
        "                    verbose=1,\n",
        "                    callbacks=[cp, early_stop]\n",
        "                    ).history\n"
      ]
    },
    {
      "cell_type": "code",
      "execution_count": 44,
      "id": "2a4dc6d4",
      "metadata": {
        "colab": {
          "base_uri": "https://localhost:8080/",
          "height": 472
        },
        "id": "2a4dc6d4",
        "outputId": "a9ff6d0c-3539-41a4-aa1c-442e28fbd8e7"
      },
      "outputs": [
        {
          "data": {
            "image/png": "[encoded data removed]",
            "text/plain": [
              "<Figure size 640x480 with 1 Axes>"
            ]
          },
          "metadata": {},
          "output_type": "display_data"
        }
      ],
      "source": [
        "#Plot training and test loss\n",
        "\n",
        "plt.plot(history['loss'], linewidth=2, label='Train')\n",
        "plt.plot(history['val_loss'], linewidth=2, label='Test')\n",
        "plt.legend(loc='upper right')\n",
        "plt.title('Model loss')\n",
        "plt.ylabel('Loss')\n",
        "plt.xlabel('Epoch')\n",
        "#plt.ylim(ymin=0.70,ymax=1)\n",
        "plt.show()"
      ]
    },
    {
      "cell_type": "code",
      "execution_count": 45,
      "id": "9aa7e73d",
      "metadata": {
        "colab": {
          "base_uri": "https://localhost:8080/"
        },
        "id": "9aa7e73d",
        "outputId": "dab82630-058e-4a8f-c917-b9b673fe3a4c"
      },
      "outputs": [
        {
          "name": "stdout",
          "output_type": "stream",
          "text": [
            "1781/1781 [==============================] - 3s 2ms/step\n"
          ]
        }
      ],
      "source": [
        "\"\"\"Detect Anomalies on test data\n",
        "\n",
        "Anomalies are data points where the reconstruction loss is higher\n",
        "\n",
        "To calculate the reconstruction loss on test data,\n",
        "predict the test data and calculate the mean square error between the test data and the reconstructed test data.\"\"\"\n",
        "\n",
        "test_x_predictions = autoencoder.predict(test_data)\n",
        "mse = np.mean(np.power(test_data - test_x_predictions, 2), axis=1)\n",
        "error_df = pd.DataFrame({'Reconstruction_error': mse,\n",
        "                        'True_class': test_labels})"
      ]
    },
    {
      "cell_type": "code",
      "execution_count": 46,
      "id": "796df42d",
      "metadata": {
        "colab": {
          "base_uri": "https://localhost:8080/",
          "height": 472
        },
        "id": "796df42d",
        "outputId": "8e8adf01-6bea-4580-c86c-be941279b3b8"
      },
      "outputs": [
        {
          "data": {
            "image/png": "[encoded data removed]",
            "text/plain": [
              "<Figure size 640x480 with 1 Axes>"
            ]
          },
          "metadata": {},
          "output_type": "display_data"
        }
      ],
      "source": [
        "#Plotting the test data points and their respective reconstruction error sets a threshold value to visualize\n",
        "#if the threshold value needs to be adjusted.\n",
        "\n",
        "threshold_fixed = 50\n",
        "groups = error_df.groupby('True_class')\n",
        "fig, ax = plt.subplots()\n",
        "for name, group in groups:\n",
        "    ax.plot(group.index, group.Reconstruction_error, marker='o', ms=3.5, linestyle='',\n",
        "            label= \"Fraud\" if name == 1 else \"Normal\")\n",
        "ax.hlines(threshold_fixed, ax.get_xlim()[0], ax.get_xlim()[1], colors=\"r\", zorder=100, label='Threshold')\n",
        "ax.legend()\n",
        "plt.title(\"Reconstruction error for normal and fraud data\")\n",
        "plt.ylabel(\"Reconstruction error\")\n",
        "plt.xlabel(\"Data point index\")\n",
        "plt.show();"
      ]
    },
    {
      "cell_type": "code",
      "execution_count": 47,
      "id": "ea967b66",
      "metadata": {
        "colab": {
          "base_uri": "https://localhost:8080/",
          "height": 517
        },
        "id": "ea967b66",
        "outputId": "59dbc8be-09c1-4e7b-c5dd-5845559bb590"
      },
      "outputs": [
        {
          "data": {
            "image/png": "[encoded data removed]",
            "text/plain": [
              "<Figure size 400x400 with 2 Axes>"
            ]
          },
          "metadata": {},
          "output_type": "display_data"
        },
        {
          "name": "stdout",
          "output_type": "stream",
          "text": [
            " Accuracy:  0.9981917769741231\n",
            " Recall:  0.0\n",
            " Precision:  0.0\n"
          ]
        },
        {
          "name": "stderr",
          "output_type": "stream",
          "text": [
            "/usr/local/lib/python3.10/dist-packages/sklearn/metrics/_classification.py:1344: UndefinedMetricWarning: Precision is ill-defined and being set to 0.0 due to no predicted samples. Use `zero_division` parameter to control this behavior.\n",
            "  _warn_prf(average, modifier, msg_start, len(result))\n"
          ]
        }
      ],
      "source": [
        "'''Detect anomalies as points where the reconstruction loss is greater than a fixed threshold.\n",
        "Here we see that a value of 52 for the threshold will be good.\n",
        "\n",
        "Evaluating the performance of the anomaly detection'''\n",
        "#Any data point with a reconstruction error greater than this threshold is considered an anomaly.\n",
        "threshold_fixed =52\n",
        "pred_y = [1 if e > threshold_fixed else 0 for e in error_df.Reconstruction_error.values]\n",
        "error_df['pred'] =pred_y\n",
        "conf_matrix = confusion_matrix(error_df.True_class, pred_y)\n",
        "plt.figure(figsize=(4, 4))\n",
        "sns.heatmap(conf_matrix, xticklabels=LABELS, yticklabels=LABELS, annot=True, fmt=\"d\");\n",
        "plt.title(\"Confusion matrix\")\n",
        "plt.ylabel('True class')\n",
        "plt.xlabel('Predicted class')\n",
        "plt.show()\n",
        "# print Accuracy, precision and recall\n",
        "print(\" Accuracy: \",accuracy_score(error_df['True_class'], error_df['pred']))\n",
        "print(\" Recall: \",recall_score(error_df['True_class'], error_df['pred']))\n",
        "print(\" Precision: \",precision_score(error_df['True_class'], error_df['pred']))"
      ]
    },
    {
      "cell_type": "code",
      "execution_count": 48,
      "id": "22ffb689",
      "metadata": {
        "colab": {
          "base_uri": "https://localhost:8080/",
          "height": 53
        },
        "id": "22ffb689",
        "outputId": "3c9d198b-30b4-4861-e512-26517032530a"
      },
      "outputs": [
        {
          "data": {
            "application/vnd.google.colaboratory.intrinsic+json": {
              "type": "string"
            },
            "text/plain": [
              "'As our dataset is highly imbalanced, we see a high accuracy but a low recall and precision.\\n\\nThings to further improve precision and recall would add more relevant features, \\ndifferent architecture for autoencoder, different hyperparameters, or a different algorithm.'"
            ]
          },
          "execution_count": 48,
          "metadata": {},
          "output_type": "execute_result"
        }
      ],
      "source": [
        "'''As our dataset is highly imbalanced, we see a high accuracy but a low recall and precision.\n",
        "\n",
        "Things to further improve precision and recall would add more relevant features,\n",
        "different architecture for autoencoder, different hyperparameters, or a different algorithm.'''"
      ]
    },
    {
      "cell_type": "code",
      "execution_count": 49,
      "id": "f1fbb583",
      "metadata": {
        "colab": {
          "base_uri": "https://localhost:8080/"
        },
        "id": "f1fbb583",
        "outputId": "d8005075-d19a-4f62-babd-f0bdf978cf1b"
      },
      "outputs": [
        {
          "data": {
            "text/plain": [
              "{'loss': [0.004901435226202011,\n",
              "  1.9379256627871655e-05,\n",
              "  1.9369197616470046e-05,\n",
              "  1.9478087779134512e-05,\n",
              "  1.9476765373838134e-05,\n",
              "  1.9486076780594885e-05,\n",
              "  1.948396493389737e-05,\n",
              "  1.946179872902576e-05,\n",
              "  1.948356111824978e-05,\n",
              "  1.9553397578420117e-05,\n",
              "  1.945440635608975e-05],\n",
              " 'accuracy': [0.017568232491612434,\n",
              "  0.0529509000480175,\n",
              "  0.06392005831003189,\n",
              "  0.06096123903989792,\n",
              "  0.060354530811309814,\n",
              "  0.05979178473353386,\n",
              "  0.06058754399418831,\n",
              "  0.05894766375422478,\n",
              "  0.060152292251586914,\n",
              "  0.0599544532597065,\n",
              "  0.06315506994724274],\n",
              " 'val_loss': [2.038724414887838e-05,\n",
              "  1.99818387045525e-05,\n",
              "  2.0265717466827482e-05,\n",
              "  2.005267742788419e-05,\n",
              "  2.0121111447224393e-05,\n",
              "  2.0152774595771916e-05,\n",
              "  2.008193769142963e-05,\n",
              "  2.0153682271484286e-05,\n",
              "  1.9962810256402008e-05,\n",
              "  2.030828909482807e-05,\n",
              "  2.0109922843403183e-05],\n",
              " 'val_accuracy': [0.026895122602581978,\n",
              "  0.059636250138282776,\n",
              "  0.025122011080384254,\n",
              "  0.03630490601062775,\n",
              "  0.026895122602581978,\n",
              "  0.025122011080384254,\n",
              "  0.059636250138282776,\n",
              "  0.02362978830933571,\n",
              "  0.2168463170528412,\n",
              "  0.2168463170528412,\n",
              "  0.0814051479101181]}"
            ]
          },
          "execution_count": 49,
          "metadata": {},
          "output_type": "execute_result"
        }
      ],
      "source": [
        "history"
      ]
    },
    {
      "cell_type": "code",
      "execution_count": 49,
      "id": "2286091f",
      "metadata": {
        "id": "2286091f"
      },
      "outputs": [],
      "source": []
    }
  ],
  "metadata": {
    "colab": {
      "provenance": []
    },
    "kernelspec": {
      "display_name": "Python 3 (ipykernel)",
      "language": "python",
      "name": "python3"
    },
    "language_info": {
      "codemirror_mode": {
        "name": "ipython",
        "version": 3
      },
      "file_extension": ".py",
      "mimetype": "text/x-python",
      "name": "python",
      "nbconvert_exporter": "python",
      "pygments_lexer": "ipython3",
      "version": "3.10.7"
    }
  },
  "nbformat": 4,
  "nbformat_minor": 5
}
